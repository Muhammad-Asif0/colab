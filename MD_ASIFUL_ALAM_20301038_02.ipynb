{
  "nbformat": 4,
  "nbformat_minor": 0,
  "metadata": {
    "colab": {
      "name": "MD ASIFUL ALAM_20301038_02.ipynb",
      "private_outputs": true,
      "provenance": [],
      "authorship_tag": "ABX9TyODn1ru3YjvkFj7DFpLkNLe",
      "include_colab_link": true
    },
    "kernelspec": {
      "name": "python3",
      "display_name": "Python 3"
    }
  },
  "cells": [
    {
      "cell_type": "markdown",
      "metadata": {
        "id": "view-in-github",
        "colab_type": "text"
      },
      "source": [
        "<a href=\"https://colab.research.google.com/github/Muhammad-Asif0/colab/blob/main/MD_ASIFUL_ALAM_20301038_02.ipynb\" target=\"_parent\"><img src=\"https://colab.research.google.com/assets/colab-badge.svg\" alt=\"Open In Colab\"/></a>"
      ]
    },
    {
      "cell_type": "code",
      "metadata": {
        "id": "_VX9QauQeHi0"
      },
      "source": [
        "class Laptop:\r\n",
        "    def __init__(self, name):\r\n",
        "        self.name = name\r\n",
        "\r\n",
        "    def check(self):\r\n",
        "        print(\"The Laptop is working properly\")\r\n",
        "class Asus(Laptop):\r\n",
        "    def check(self):\r\n",
        "        print(\"This is Asus \",self.name)\r\n",
        "        return super().check()\r\n",
        "\r\n",
        "\r\n",
        "class Dell(Laptop):\r\n",
        "    def check(self):\r\n",
        "        print(\"This is Dell \",self.name)\r\n",
        "        return super().check()\r\n",
        "\r\n",
        "\r\n",
        "a = Asus(\"Zenbook 14\")\r\n",
        "d = Dell(\"Inspiron\")\r\n",
        "a.check()\r\n",
        "print(\"=========================\")\r\n",
        "d.check()\r\n",
        "print(\"=========================\")\r\n",
        "\r\n"
      ],
      "execution_count": null,
      "outputs": []
    }
  ]
}