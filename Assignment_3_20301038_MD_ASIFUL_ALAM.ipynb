{
  "nbformat": 4,
  "nbformat_minor": 0,
  "metadata": {
    "colab": {
      "name": "Assignment 3_20301038_MD ASIFUL ALAM.ipynb",
      "provenance": [],
      "private_outputs": true,
      "collapsed_sections": [],
      "authorship_tag": "ABX9TyMfyC+5DQHFzF3tUNpsOjtJ",
      "include_colab_link": true
    },
    "kernelspec": {
      "name": "python3",
      "display_name": "Python 3"
    }
  },
  "cells": [
    {
      "cell_type": "markdown",
      "metadata": {
        "id": "view-in-github",
        "colab_type": "text"
      },
      "source": [
        "<a href=\"https://colab.research.google.com/github/Muhammad-Asif0/colab/blob/main/Assignment_3_20301038_MD_ASIFUL_ALAM.ipynb\" target=\"_parent\"><img src=\"https://colab.research.google.com/assets/colab-badge.svg\" alt=\"Open In Colab\"/></a>"
      ]
    },
    {
      "cell_type": "code",
      "metadata": {
        "id": "Bk8nRaoNxGuX"
      },
      "source": [
        "#task 1\n",
        "\n",
        "class DataType:\n",
        "    def __init__(self,name,value):\n",
        "        self.name=name\n",
        "        self.value=value\n",
        "data_type1 = DataType(\"Integer\", 1234)\n",
        "print(data_type1.name)\n",
        "print(data_type1.value)\n",
        "print('=====================')\n",
        "data_type2 = DataType(\"String\", \"Hello\")\n",
        "print(data_type2.name)\n",
        "print(data_type2.value)\n",
        "print('=====================')\n",
        "data_type3 = DataType(\"Float\", 4.0)\n",
        "print(data_type3.name)\n",
        "print(data_type3.value)"
      ],
      "execution_count": null,
      "outputs": []
    },
    {
      "cell_type": "code",
      "metadata": {
        "id": "2isPS1sKS1ma"
      },
      "source": [
        "#task 2\n",
        "\n",
        "class Flower:\n",
        "    def __init__(self):\n",
        "        pass\n",
        "flower1 = Flower()\n",
        "flower1.name=\"Rose\"\n",
        "flower1.color=\"Red\"\n",
        "flower1.num_of_petal=6\n",
        "print(\"Name of this flower:\", flower1.name)\n",
        "print(\"Color of this flower:\",flower1.color)\n",
        "print(\"Number of petal:\",flower1.num_of_petal)\n",
        "print(\"=====================\")\n",
        "flower2 = Flower()\n",
        "flower2.name=\"Orchid\"\n",
        "flower2.color=\"Purple\"\n",
        "flower2.num_of_petal=4\n",
        "print(\"Name of this flower:\",flower2.name)\n",
        "print(\"Color of this flower:\",flower2.color)\n",
        "print (\"Number of petal:\",flower2. num_of_petal)\n",
        "\n",
        "## ANS of 2,3\n",
        "\n",
        "print(flower1,flower1)\n",
        "print(\"they are different\")"
      ],
      "execution_count": null,
      "outputs": []
    },
    {
      "cell_type": "code",
      "metadata": {
        "id": "ThGQkA-qVqMM"
      },
      "source": [
        "##task3\n",
        "class Wadiya():\n",
        "    def __init__(self):\n",
        "        self.name = 'Aladeen'\n",
        "        self.designation = 'President Prime Minister Admiral General'\n",
        "        self.num_of_wife = 100\n",
        "        self.dictator = True\n",
        "#subtask1\n",
        "\n",
        "wadiya=Wadiya()\n",
        "print(\"Part 1: \")\n",
        "#subtask2\n",
        "\n",
        "print(\"Name of President: \",wadiya.name)\n",
        "print(\"Designation: \",wadiya.designation)\n",
        "print(\"Number of wife: \",wadiya.num_of_wife)\n",
        "print(\"Is he/she a dictator:\",wadiya.dictator)\n",
        "\n",
        "#subtask3\n",
        "\n",
        "wadiya.name=\"Donald Trump\"\n",
        "wadiya.designation=\"President\"\n",
        "wadiya.num_of_wife=1\n",
        "wadiya.dictator=False\n",
        "print(\"Part 2: \")\n",
        "print(\"Name of President: \",wadiya.name)\n",
        "print(\"Designation: \",wadiya.designation)\n",
        "print(\"Number of wife: \",wadiya.num_of_wife)\n",
        "print(\"Is he/she a dictator:\",wadiya.dictator)\n",
        "#subtask4\n",
        "\n",
        "print(\"previous information lost\")"
      ],
      "execution_count": null,
      "outputs": []
    },
    {
      "cell_type": "code",
      "metadata": {
        "id": "gzON_-p_cpjN"
      },
      "source": [
        "##task 4\n",
        "\n",
        "class Joker:\n",
        "    def __init__(self,name,power,is_he_psycho):\n",
        "        self.name=name\n",
        "        self.power=power\n",
        "        self.is_he_psycho=is_he_psycho\n",
        "j1 = Joker('Heath Ledger', 'Mind Game', False)\n",
        "print(j1.name)\n",
        "print(j1.power)\n",
        "print(j1.is_he_psycho)\n",
        "print(\"=====================\")\n",
        "j2 = Joker('Joaquin Phoenix', 'Laughing out Loud', True)\n",
        "print(j2.name)\n",
        "print(j2.power)\n",
        "print(j2.is_he_psycho)\n",
        "print(\"=====================\")\n",
        "if j1 == j2:\n",
        "    print('same')\n",
        "else:\n",
        "    print('different')\n",
        "j2.name = 'Heath Ledger'\n",
        "if j1.name == j2.name:\n",
        "    print('same')\n",
        "else:\n",
        "    print('different')\n",
        "##subtask\n",
        "#The first if/else block prints the output as ‘different’ because it is different in location .\n",
        "#The second if/else block prints the output as ‘same’ because it is same in name ."
      ],
      "execution_count": null,
      "outputs": []
    },
    {
      "cell_type": "code",
      "metadata": {
        "id": "4R8d429UFwqx"
      },
      "source": [
        "#task 5\n",
        "\n",
        "class Pokemon:\n",
        "    def __init__(self,pokemon1_name,pokemon2_name,pokemon1_power,pokemon2_power,damage_rate):\n",
        "        self.pokemon1_name=pokemon1_name\n",
        "        self.pokemon2_name=pokemon2_name\n",
        "        self.pokemon2_power=pokemon2_power\n",
        "        self.pokemon1_power=pokemon1_power\n",
        "        self.damage_rate=damage_rate\n",
        "\n",
        "team_pika = Pokemon('pikachu', 'charmander', 90, 60, 10)\n",
        "print('=======Team 1=======')\n",
        "print('Pokemon 1:',team_pika.pokemon1_name,team_pika.pokemon1_power)\n",
        "print('Pokemon 2:',team_pika.pokemon2_name,team_pika.pokemon2_power)\n",
        "pika_combined_power = (team_pika.pokemon1_power +\n",
        "team_pika.pokemon2_power) * team_pika.damage_rate\n",
        "print('Combined Power:', pika_combined_power)\n",
        "print('=======Team 2=======')\n",
        "#subtask\n",
        "team_bulb=Pokemon('bulbasaur', 'squirtle', 80, 70,9)\n",
        "print('Pokemon 1:',team_bulb.pokemon1_name,team_bulb.pokemon1_power)\n",
        "print('Pokemon 2:',team_bulb.pokemon2_name,team_bulb.pokemon2_power)\n",
        "pika_combined_power = (team_bulb.pokemon1_power+team_bulb.pokemon2_power) * team_bulb.damage_rate\n",
        "print('Combined Power:', pika_combined_power)\n"
      ],
      "execution_count": null,
      "outputs": []
    },
    {
      "cell_type": "code",
      "metadata": {
        "id": "5-JYluIYH3oX"
      },
      "source": [
        "##task 6\n",
        "\n",
        "class Player:\n",
        "    def __init__(self,name=\"\",jersy_number=0,position=\"\"):\n",
        "        pass\n",
        "player1 = Player()\n",
        "player1.name = \"Ronaldo\"\n",
        "player1.jersy_number = 9\n",
        "player1.position = \"Striker\"\n",
        "print(\"Name of the Player:\", player1.name)\n",
        "print(\"Jersey Number of player:\", player1.jersy_number)\n",
        "print(\"Position of player:\", player1.position)\n",
        "print(\"===========================\")\n",
        "player2 = Player()\n",
        "player2.name = \"Neuer\"\n",
        "player2.jersy_number = 1\n",
        "player2.position = \"Goal Keeper\"\n",
        "print(\"Name of the player:\", player2.name)\n",
        "print(\"Jersey Number of player:\", player2.jersy_number)\n",
        "print(\"Position of player:\", player2.position)\n",
        "\n",
        "\n"
      ],
      "execution_count": null,
      "outputs": []
    },
    {
      "cell_type": "code",
      "metadata": {
        "id": "TnKe3d8iH-Ce"
      },
      "source": [
        "###task 7\n",
        "\n",
        "class Country:\n",
        "    def __init__(self,name=\"Bangladesh\",continent=\"Asia\",capital=\"Dhaka\",fifa_ranking=187):\n",
        "        self.name=name\n",
        "        self.continent=capital\n",
        "        self.capital=capital\n",
        "        self.fifa_ranking=fifa_ranking\n",
        "country = Country()\n",
        "print('Name:',country.name)\n",
        "print('Continent:',country.continent)\n",
        "print('Capital:',country.capital)\n",
        "print('Fifa Ranking:',country.fifa_ranking)\n",
        "print(\"===================\")\n",
        "country.name = \"Belgium\"\n",
        "country.continent =\"Europe\"\n",
        "country.capital = \"Brussels\"\n",
        "country.fifa_ranking = 1\n",
        "print('Name:',country.name)\n",
        "print('Continent:',country.continent)\n",
        "print('Capital:',country.capital)\n",
        "print('Fifa Ranking:',country.fifa_ranking)\n",
        "\n",
        "\n"
      ],
      "execution_count": null,
      "outputs": []
    },
    {
      "cell_type": "code",
      "metadata": {
        "id": "cR17281vIsC5"
      },
      "source": [
        "##task 8\n",
        "\n",
        "class DemonSlayer:\n",
        "    def __init__(self,name,style,number_of_technique,kill):\n",
        "        self.name=name\n",
        "        self.style=style\n",
        "        self.number_of_technique=number_of_technique\n",
        "        self.kill=kill\n",
        "tanjiro = DemonSlayer(\"Tanjiro\", \"Water Breathing\", 10, 10)\n",
        "print('Name:',tanjiro.name)\n",
        "print('Fighting Style:',tanjiro.style)\n",
        "print(f'Knows {tanjiro.number_of_technique} technique(s) and has killed {tanjiro.kill} demon(s)')\n",
        "print('===================')\n",
        "zenitsu = DemonSlayer(\"Zenitsu\", \"Thunder Breathing\", 1, 4)\n",
        "print('Name:',zenitsu.name)\n",
        "print('Fighting Style:',zenitsu.style)\n",
        "print(f'Knows {zenitsu.number_of_technique} technique(s) and has killed {zenitsu.kill} demon(s)')\n",
        "print('===================')\n",
        "inosuke = DemonSlayer(\"Inosuke\", \"Beast Breathing\", 5, 7)\n",
        "print('Name:',inosuke.name)\n",
        "print('Fighting Style:',inosuke.style)\n",
        "print(f'Knows {inosuke.number_of_technique} technique(s) and has killed {inosuke.kill} demon(s)')\n",
        "print('===================')\n",
        "print(f'{tanjiro.name}, {zenitsu.name}, {inosuke.name} knows total {tanjiro.number_of_technique + zenitsu.number_of_technique  + inosuke.number_of_technique} techniques')\n",
        "print(f'They have killed total {tanjiro.kill + zenitsu.kill + inosuke.kill} demons')\n"
      ],
      "execution_count": null,
      "outputs": []
    }
  ]
}