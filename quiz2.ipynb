{
  "nbformat": 4,
  "nbformat_minor": 0,
  "metadata": {
    "colab": {
      "name": "quiz2.ipynb",
      "provenance": [],
      "private_outputs": true,
      "authorship_tag": "ABX9TyP3hWj6j8ab684nig6GTqrr",
      "include_colab_link": true
    },
    "kernelspec": {
      "name": "python3",
      "display_name": "Python 3"
    }
  },
  "cells": [
    {
      "cell_type": "markdown",
      "metadata": {
        "id": "view-in-github",
        "colab_type": "text"
      },
      "source": [
        "<a href=\"https://colab.research.google.com/github/Muhammad-Asif0/colab/blob/main/quiz2.ipynb\" target=\"_parent\"><img src=\"https://colab.research.google.com/assets/colab-badge.svg\" alt=\"Open In Colab\"/></a>"
      ]
    },
    {
      "cell_type": "code",
      "metadata": {
        "id": "YU7Zhml_LNDo"
      },
      "source": [
        "class Author:\n",
        "    def __init__(self,name='',*books):\n",
        "        self.name=name\n",
        "        self.books=books\n",
        "        if self.name==\"\":\n",
        "            print(\"Default\")\n",
        "    def addBooks(self,*list):\n",
        "        self.books=list\n",
        "    def printDetails(self):\n",
        "        print(\"Author Name:\",self.name)\n",
        "        print('-----')\n",
        "        print(\"List of Books\")\n",
        "        for i in self.books:\n",
        "            print(i)\n",
        "    def changeName(self,changename):\n",
        "        self.name=changename\n",
        "auth1 = Author('Humayun Ahmed')\n",
        "auth1.addBooks('Deyal','Megher Opor Bari')\n",
        "auth1.printDetails()\n",
        "print('-----')\n",
        "auth2 = Author()\n",
        "print(auth2.name)\n",
        "auth2.changeName('Mario Puzo')\n",
        "auth2.addBooks('The Godfather','Omerta','The Sicilian')\n",
        "auth2.printDetails()\n",
        "print('-----')\n",
        "auth3 = Author('Paolo Coelho','The Alchemist','The Fifth Mountain')\n",
        "auth3.printDetails()\n",
        "print('-----')"
      ],
      "execution_count": null,
      "outputs": []
    }
  ]
}