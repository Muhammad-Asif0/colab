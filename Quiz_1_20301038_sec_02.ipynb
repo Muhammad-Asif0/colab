{
  "nbformat": 4,
  "nbformat_minor": 0,
  "metadata": {
    "colab": {
      "name": "Quiz 1_20301038_sec_02.ipynb",
      "provenance": [],
      "private_outputs": true,
      "collapsed_sections": [],
      "authorship_tag": "ABX9TyP4hqQKqwMZBh91o1EnpCX4",
      "include_colab_link": true
    },
    "kernelspec": {
      "name": "python3",
      "display_name": "Python 3"
    }
  },
  "cells": [
    {
      "cell_type": "markdown",
      "metadata": {
        "id": "view-in-github",
        "colab_type": "text"
      },
      "source": [
        "<a href=\"https://colab.research.google.com/github/Muhammad-Asif0/colab/blob/main/Quiz_1_20301038_sec_02.ipynb\" target=\"_parent\"><img src=\"https://colab.research.google.com/assets/colab-badge.svg\" alt=\"Open In Colab\"/></a>"
      ]
    },
    {
      "cell_type": "code",
      "metadata": {
        "id": "G3rZweCd5G6Q"
      },
      "source": [
        "total_num=int(input())\n",
        "odd=[]\n",
        "even=[]\n",
        "d=dict()\n",
        "for i in range(total_num):\n",
        "    N_number=int(input())\n",
        "    if N_number%2==0:\n",
        "        even.append(N_number)\n",
        "    else:\n",
        "        odd.append(N_number)\n",
        "for i in range(len(odd+even)):\n",
        "    d[\"odd\"]=odd\n",
        "    d[\"even\"]=even\n",
        "print(d)\n",
        "\n",
        "\n",
        "\n"
      ],
      "execution_count": null,
      "outputs": []
    }
  ]
}