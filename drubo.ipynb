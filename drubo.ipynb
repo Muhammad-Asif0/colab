{
  "nbformat": 4,
  "nbformat_minor": 0,
  "metadata": {
    "colab": {
      "name": "drubo.ipynb",
      "private_outputs": true,
      "provenance": [],
      "authorship_tag": "ABX9TyOw40fKQDAnhXLBpJHzOrmG",
      "include_colab_link": true
    },
    "kernelspec": {
      "name": "python3",
      "display_name": "Python 3"
    }
  },
  "cells": [
    {
      "cell_type": "markdown",
      "metadata": {
        "id": "view-in-github",
        "colab_type": "text"
      },
      "source": [
        "<a href=\"https://colab.research.google.com/github/Muhammad-Asif0/colab/blob/main/drubo.ipynb\" target=\"_parent\"><img src=\"https://colab.research.google.com/assets/colab-badge.svg\" alt=\"Open In Colab\"/></a>"
      ]
    },
    {
      "cell_type": "code",
      "metadata": {
        "id": "wiQYompTjbSd"
      },
      "source": [
        "class Team:\r\n",
        "    def __init__(self, name):\r\n",
        "        self.name = name\r\n",
        "        self.total_player = 5\r\n",
        "\r\n",
        "    def info(self):\r\n",
        "        print(\"We love sports\")\r\n",
        "\r\n",
        "class FootBallTeam(Team):\r\n",
        "    def __init__(self,name):\r\n",
        "        super().__init__(name)\r\n",
        "        self.total_player=11\r\n",
        "    def info(self):\r\n",
        "        print(\"Our name is\",self.name)\r\n",
        "        print(\"We play Football\")\r\n",
        "        return super().info()\r\n",
        "\r\n",
        "class CricketTeam(Team):\r\n",
        "    def __init__(self,name):\r\n",
        "        super().__init__(name)\r\n",
        "        self.total_player=11\r\n",
        "    def info(self):\r\n",
        "        print(\"Our name is\",self.name)\r\n",
        "        print(\"We play Cricket\")\r\n",
        "        return super().info()\r\n",
        "\r\n",
        "class Team_test:\r\n",
        "    def check(self, tm):\r\n",
        "            print(\"=========================\")\r\n",
        "            print(\"Total Player:\", tm.total_player)\r\n",
        "            tm.info()\r\n",
        "\r\n",
        "f = FootBallTeam(\"Brazil\")\r\n",
        "c = CricketTeam(\"Bangladesh\")\r\n",
        "test = Team_test()\r\n",
        "test.check(f)\r\n",
        "test.check(c)"
      ],
      "execution_count": null,
      "outputs": []
    }
  ]
}