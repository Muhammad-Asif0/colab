{
  "nbformat": 4,
  "nbformat_minor": 0,
  "metadata": {
    "kernelspec": {
      "display_name": "Python 3",
      "language": "python",
      "name": "python3"
    },
    "language_info": {
      "codemirror_mode": {
        "name": "ipython",
        "version": 3
      },
      "file_extension": ".py",
      "mimetype": "text/x-python",
      "name": "python",
      "nbconvert_exporter": "python",
      "pygments_lexer": "ipython3",
      "version": "3.7.6"
    },
    "colab": {
      "name": "Assignment 2_20301038_MD ASIFUL ALAM.ipynb",
      "provenance": [],
      "collapsed_sections": [],
      "include_colab_link": true
    }
  },
  "cells": [
    {
      "cell_type": "markdown",
      "metadata": {
        "id": "view-in-github",
        "colab_type": "text"
      },
      "source": [
        "<a href=\"https://colab.research.google.com/github/Muhammad-Asif0/colab/blob/main/Assignment_2_20301038_MD_ASIFUL_ALAM.ipynb\" target=\"_parent\"><img src=\"https://colab.research.google.com/assets/colab-badge.svg\" alt=\"Open In Colab\"/></a>"
      ]
    },
    {
      "cell_type": "markdown",
      "metadata": {
        "id": "aF24OLo6nKSs"
      },
      "source": [
        "# CSE111 Assignment 2"
      ]
    },
    {
      "cell_type": "markdown",
      "metadata": {
        "id": "K5HesmZ2nKSu"
      },
      "source": [
        "# Task-1\n",
        "Write a function which will return the fraction part after dividing a number by another. The range should be within 0 and 1. Exception: Since dividing anything by 0 results in error so if the denominator is 0, the function will return 0 instead of attempting the division.\\\n",
        "**Sample Input**\\\n",
        "(5, 2)\\\n",
        "(5, 0)\\\n",
        "(0, 5)\\\n",
        "**Sample Output**\\\n",
        "0.5\\\n",
        "0\\\n",
        "0\n"
      ]
    },
    {
      "cell_type": "code",
      "metadata": {
        "id": "0ra7zjBRnKSx"
      },
      "source": [
        "try:\n",
        "    def dividing(first,second):\n",
        "\n",
        "        output=first/second\n",
        "        ans=(output-first//second)\n",
        "        if ans==0.0:\n",
        "            print(0)\n",
        "        else:\n",
        "            print(ans)\n",
        "    dividing(int(input()),int(input()))\n",
        "except ZeroDivisionError:\n",
        "    print(0)\n"
      ],
      "execution_count": null,
      "outputs": []
    },
    {
      "cell_type": "markdown",
      "metadata": {
        "id": "C25owtXLnKS6"
      },
      "source": [
        "# Task-2\n",
        "You are one of the gym instructors at AmiKenoMota. You decide to provide a customized diet and exercise plans based on the BMI of an individual. You measure the weight in kilograms and height in meters and calculate the BMI before a plan can be decided. Write a BMI function that takes in two values, weight in kg and height in cm and print the score along with the condition.\\\n",
        "(Make sure to convert cm into m before calculation)\\\n",
        "BMI(height, weight)\n",
        "\n",
        "&emsp; &emsp; &emsp; &emsp;&emsp; &emsp; &emsp; **𝐵𝑀𝐼=𝑘𝑔/𝑚2**\n",
        "\n",
        "Based on the BMI score return the following output.\\\n",
        "● < 18.5- Underweight\\\n",
        "● 18.5 - 24.9 - Normal\\\n",
        "● 25 -30 - Overweight\\\n",
        "● > 30 – Obese\\\n",
        "**Sample Input**\\\n",
        "(175, 96)\\\n",
        "(152, 48)\\\n",
        "**Sample Output**\\\n",
        "Score is 31.3. You are Obese\\ \n",
        "Score is 20.8. You are Normal"
      ]
    },
    {
      "cell_type": "code",
      "metadata": {
        "id": "59jBK_A3nKS8",
        "outputId": "4b9d3b51-e37c-4749-b4e7-95376eb3afa7",
        "colab": {
          "base_uri": "https://localhost:8080/",
          "height": 68
        }
      },
      "source": [
        "c=((lambda height,weight: weight/(height/100)**2)(int(input()),int(input())))\n",
        "bmi='%.1f' %c\n",
        "bmi=float(bmi)\n",
        "if bmi<18.5:\n",
        "    print(\"Score is\",bmi,\"You are Underweight\")\n",
        "elif bmi>=18.5 and bmi<=24.9:\n",
        "    print(\"Score is\",bmi,\"You are Normal\")\n",
        "elif bmi>=25 and bmi<=30:\n",
        "    print(\"Score is\",bmi,\"You are Overweight\")\n",
        "elif bmi>30:\n",
        "    print(\"Score is\",bmi,\"You are Obese\")\n"
      ],
      "execution_count": null,
      "outputs": [
        {
          "output_type": "stream",
          "text": [
            "177\n",
            "68\n",
            "Score is 21.7 You are Normal\n"
          ],
          "name": "stdout"
        }
      ]
    },
    {
      "cell_type": "markdown",
      "metadata": {
        "id": "n6exyeyunKTG"
      },
      "source": [
        "# Task-3\n",
        "Write a function which will take 3 arguments minimum, maximum and divisor. You have to find all the numbers that are divisible by the divisor where minimum value is inclusive and maximum value is exclusive. Add all the numbers and return the value.\\\n",
        "**Sample Input**\\\n",
        "(0, 10, 2)\\\n",
        "(3, 16, 3)\\\n",
        "**Sample Output**\\\n",
        "20\\\n",
        "45"
      ]
    },
    {
      "cell_type": "code",
      "metadata": {
        "id": "addYd5WrnKTH"
      },
      "source": [
        "def claverone(min,max,divisor):\n",
        "    total=0\n",
        "    for i in range(min,max):\n",
        "        if i%divisor==0:\n",
        "            total=total+i\n",
        "    print(total)\n",
        "claverone(int(input()),int(input()),int(input()))"
      ],
      "execution_count": null,
      "outputs": []
    },
    {
      "cell_type": "markdown",
      "metadata": {
        "id": "BQYOyE41nKTN"
      },
      "source": [
        "# Task-4\n",
        "You want to order Burger from Chillox through the FoodPanda App. You have to calculate the total price. Write a function which will take the name of the burger and place(Mohakhali/Outside of Mohakhali) as input. Use default argument technique for taking place input.\n",
        "\n",
        "| Menu | Price(Tk) |\n",
        "| --- | --- |\n",
        "| BBQ Chicken cheese Burger | 250 |\n",
        "| Beff Burger | 170 |\n",
        "| Naga Drums | 200 |\n",
        "\n",
        "**Hint: Total Price = meal_cost + delivery_charge + tax**\\\n",
        "Note that:\\\n",
        "● If your home is in Mohakhali area then your delivery charge is 40 taka else 60 taka\\\n",
        "● Your tax rate is 8% of your meal.\\\n",
        "**Sample Input**\\\n",
        "(‘Beef Burger’, ‘Dhanmondi’)\\\n",
        "(‘Beef Burger’)\\\n",
        "**Sample Output**\\\n",
        "243.6\\\n",
        "223.6"
      ]
    },
    {
      "cell_type": "code",
      "metadata": {
        "id": "1OmlRzfenKTO"
      },
      "source": [
        "def order(burger,location):\n",
        "    total=0\n",
        "    if burger==\"BBQ Chicken Cheese Burger\":\n",
        "        total=total+250\n",
        "    elif burger==\"Beef Burger\":\n",
        "        total=total+170\n",
        "    elif burger==\"Naga Drums\":\n",
        "        total=total+200\n",
        "    if location==\"Mohakhali\" or location==\"\":\n",
        "        total=total+40+(total*8)/100\n",
        "    else:\n",
        "        total=total+60+(total*8)/100\n",
        "    print(total)\n",
        "order(input(), input())"
      ],
      "execution_count": null,
      "outputs": []
    },
    {
      "cell_type": "markdown",
      "metadata": {
        "id": "gRFsZ4MZnKTV"
      },
      "source": [
        "# Task-5\n",
        "A company named Sheba.xyz has recently moved from their old domain to a new domain. However, a lot of the company email addresses are still using the old one. Write a function in python that replaces this old domain with the new one in any outdated email addresses. Keep same if the email address contains the new domain.\\\n",
        "**<font color='red'>[(Do not use builtin replace function)]</font>**\\\n",
        "Firstly, define a “replace_domain” function which accepts three parameters\\\n",
        "●The email address to be checked\\\n",
        "●The new domain\\\n",
        "●The old domain (Use Default argument technique to handle this)\\\n",
        "\n",
        "**Sample Input**\\\n",
        "(‘alice@kaaj.com’, ‘sheba.xyz’, ‘kaaj.com’)\\\n",
        "(‘bob@sheba.xyz’, ‘sheba.xyz’)\\\n",
        "**Sample Output**\\\n",
        "Changed: alice@sheba.xyz\\\n",
        "Unchanged: bob@sheba.xyz"
      ]
    },
    {
      "cell_type": "code",
      "metadata": {
        "id": "FAaQDLr-nKTW",
        "outputId": "423c7054-dfab-4570-f0b3-01db805a902a",
        "colab": {
          "base_uri": "https://localhost:8080/"
        }
      },
      "source": [
        "def replace_domain(x,y,z=\"kaaj.com\"):\n",
        "    a =\"\"\n",
        "    b=\"Changed:\"\n",
        "    c=\"unchanged:\"\n",
        "    for i in range(0,len(x)):\n",
        "        if x[i]==\"@\":\n",
        "            break\n",
        "        else:\n",
        "            a=a+x[i]\n",
        "    a=a+\"@\"+y\n",
        "    if z!=\"kaaj.com\" and z!=\"\":\n",
        "        a= c+a\n",
        "        return a\n",
        "    else:\n",
        "        a=b+a \n",
        "        return a\n",
        "    \n",
        "New_Email=input(\"\\n\")\n",
        "New_Dom=input()\n",
        "Old_Dom=input()\n",
        "print(replace_domain(New_Email , New_Dom , Old_Dom))"
      ],
      "execution_count": 1,
      "outputs": [
        {
          "output_type": "stream",
          "text": [
            "\n",
            "alice@kaaj.com\n",
            "sheba.xyz\n",
            "kaaj.com\n",
            "Changed:alice@sheba.xyz\n"
          ],
          "name": "stdout"
        }
      ]
    },
    {
      "cell_type": "markdown",
      "metadata": {
        "id": "ooX0iZp5nKTa"
      },
      "source": [
        "# Task-6\n",
        "Write a function which takes only your full name as input and finds the total number of vowels in that input. Output every vowel and at the end output the total number of vowels found. If your name does not contain any vowel then your function should print “No vowels in the name!”.\\\n",
        "**Sample Input**\\\n",
        "(Steve Jobs)\\\n",
        "(XYZ)\\\n",
        "**Sample Output**\\\n",
        "Vowels: e, e, o. Total number of vowels: 3\\\n",
        "No vowels in the name"
      ]
    },
    {
      "cell_type": "code",
      "metadata": {
        "id": "DkJtNrC_nKTb",
        "outputId": "6c596c67-b9bb-4385-8587-6c69c6e06a6d",
        "colab": {
          "base_uri": "https://localhost:8080/"
        }
      },
      "source": [
        "def vowel(string):\n",
        "    string=string.lower()\n",
        "    vowels=['a','e','i','o','u']\n",
        "    total=[]\n",
        "    for i in range(len(string)):\n",
        "        if string[i] in vowels:\n",
        "            total.append(string[i])\n",
        "    final=\"\"\n",
        "    for i in range(len(total)):\n",
        "        if i==len(total)-1:\n",
        "            final=final+total[i]+'.'\n",
        "        else:\n",
        "            final=final+total[i]+','\n",
        "    if len(total)==0:\n",
        "        print(\"No vowels in the name\")\n",
        "    else:\n",
        "        print(\"Vowels\",final,\"Total number of vowels:\",len(total))\n",
        "\n",
        "vowel(input())"
      ],
      "execution_count": null,
      "outputs": [
        {
          "output_type": "stream",
          "text": [
            "XYZ\n",
            "No vowels in the name\n"
          ],
          "name": "stdout"
        }
      ]
    },
    {
      "cell_type": "markdown",
      "metadata": {
        "id": "S6LYbtrhnKTf"
      },
      "source": [
        "# Task-7\n",
        "Write a program which checks whether a given string is a palindrome or not. Note: A palindrome is a word, phrase, or sequence that reads the same backward as forward. For palindrome, any spaces in middle are not considered and should be trimmed.\\\n",
        "\n",
        "**Sample Input**\\\n",
        "‘madam’\\\n",
        "‘hello’\\\n",
        "‘nurses run’\\\n",
        "**Sample Output**\\\n",
        "Palindrome\\\n",
        "Not a palindrome\\\n",
        "Palindrome"
      ]
    },
    {
      "cell_type": "code",
      "metadata": {
        "id": "d7l5uHEUnKTg"
      },
      "source": [
        "def palindrome(input):\n",
        "    string=''\n",
        "    for i in input:\n",
        "        if i==\" \":\n",
        "            string=string\n",
        "        else:\n",
        "            string=string+i\n",
        "    if string !=string[::-1]:\n",
        "        print(\"Not a palindrome\")\n",
        "    else:\n",
        "        print(\"Palindrome\")\n",
        "palindrome(input())"
      ],
      "execution_count": null,
      "outputs": []
    },
    {
      "cell_type": "markdown",
      "metadata": {
        "id": "0hTJO75BnKTk"
      },
      "source": [
        "# Task-8\n",
        "Write a function which takes a number of days as input and prints total number of years, number of months and remaining number of days as output.\\\n",
        "**Sample Input**\\\n",
        "(4320)\\\n",
        "(4000)\\\n",
        "**Sample Output**\\\n",
        "11 years, 10 months and 5 days\\\n",
        "10 years, 11 months and 20 days"
      ]
    },
    {
      "cell_type": "code",
      "metadata": {
        "id": "R8A_3IvCnKTk"
      },
      "source": [
        "def numbers(number_days):\n",
        "    year=number_days//365\n",
        "    month=(number_days%365)//30\n",
        "    days=(number_days%365)%30\n",
        "    print(year,\"years,\",month,\"months and\",days,\"days\")\n",
        "numbers(4320)"
      ],
      "execution_count": null,
      "outputs": []
    },
    {
      "cell_type": "markdown",
      "metadata": {
        "id": "4bHf_5PTnKTo"
      },
      "source": [
        "# Task-9\n",
        "You are a class teacher at a kindergarten school. As a task, you asked your students to write a paragraph. Unfortunately, you notice that most of the students did not use capital letters correctly. Your task is to write a function which takes a string as its only parameter and returns a new copy of the string that has been correctly capitalized. Your function should:\\\n",
        "● Capitalize the first letter in the string\\\n",
        "● Capitalize the first letter after a full-stop, exclamation mark or question mark\\\n",
        "● Capitalize the word “i” if it is in lowercase.\\\n",
        "**Summary:**\\\n",
        "You have to write a function that reads a string from the user and capitalizes. The string is then returned and displayed.\\\n",
        "**Sample Input**\\\n",
        "('my favourite animal is a dog. a dog has sharp teeth so that it can eat flesh very easily.do you know my pet dog’s name? i love my pet very much.')\\\n",
        "**Sample Output**\\\n",
        "My favourite animal is a dog. A dog has sharp teeth so that it can eat flesh very easily. Do you know my pet dog’s name? I love my pet very much."
      ]
    },
    {
      "cell_type": "code",
      "metadata": {
        "id": "VHfYdyvenKTp"
      },
      "source": [
        "def sentence(string):\n",
        "    lis=[]\n",
        "    s=\"\"\n",
        "    for i in range(len(string)):\n",
        "        lis.append(string[i])\n",
        "    lis[0]=lis[0].upper()\n",
        "    s=s+lis[0]\n",
        "    for i in range(1,len(lis)-1):\n",
        "        if lis[i]==\"i\" and lis[i-1] ==\" \" and lis[i+1]==\" \":\n",
        "            s=s+'I'\n",
        "        elif lis[i]==\".\":\n",
        "            lis[i+2]=lis[i+2].upper()\n",
        "            s=s+'.'\n",
        "        elif lis[i]==\"!\":\n",
        "            lis[i + 2] = lis[i + 2].upper()\n",
        "            s=s+'!'\n",
        "        elif lis[i]==\"?\":\n",
        "            lis[i + 2] = lis[i + 2].upper()\n",
        "            s=s+'?'\n",
        "        else:\n",
        "            s=s+lis[i]\n",
        "    s=s+\".\"\n",
        "    print(s)\n",
        "\n",
        "\n",
        "sentence(input())"
      ],
      "execution_count": null,
      "outputs": []
    }
  ]
}