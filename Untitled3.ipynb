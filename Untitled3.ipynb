{
  "nbformat": 4,
  "nbformat_minor": 0,
  "metadata": {
    "colab": {
      "name": "Untitled3.ipynb",
      "provenance": [],
      "private_outputs": true,
      "collapsed_sections": [],
      "authorship_tag": "ABX9TyNvrRpKkSidvi6++nakTiCe",
      "include_colab_link": true
    },
    "kernelspec": {
      "name": "python3",
      "display_name": "Python 3"
    }
  },
  "cells": [
    {
      "cell_type": "markdown",
      "metadata": {
        "id": "view-in-github",
        "colab_type": "text"
      },
      "source": [
        "<a href=\"https://colab.research.google.com/github/Muhammad-Asif0/colab/blob/main/Untitled3.ipynb\" target=\"_parent\"><img src=\"https://colab.research.google.com/assets/colab-badge.svg\" alt=\"Open In Colab\"/></a>"
      ]
    },
    {
      "cell_type": "code",
      "metadata": {
        "id": "__Jexw28PpMf"
      },
      "source": [
        "x=\"https://github.com/mozilla/glean-dictionary/issues/191\".split(\"/\")\n",
        "t=\"\"\n",
        "if x[2] == \"github.com\":\n",
        "    t = t + x[3] + \"/\"\n",
        "    m = x[-1].split(\"-\")\n",
        "    if \"#\" not in x[-1]:\n",
        "        t = t + \"#\"+x[-1]\n",
        "\n",
        "    elif m[0][-13] == \"#\":\n",
        "        t = t +\"#\"+ m[0][:-13]+\"-comment\"\n",
        "    if x[4] !=\"issues\":\n",
        "        for i in range(len(t)):\n",
        "            if t[i]==\"/\":\n",
        "                t=t[:i]+\"/\"+x[4]+t[i:]\n",
        "                break\n",
        "elif x[2]==\"bugzilla.mozilla.org\":\n",
        "    t = t + \"bugzil.la/\"\n",
        "    n = x[-1].split(\"#\")\n",
        "    if n[0][15]==\"=\":\n",
        "        t=t+n[0][16:]\n",
        "    if len(n)>1:\n",
        "        t=t+\"#\"+n[1]\n",
        "print(t)\n"
      ],
      "execution_count": null,
      "outputs": []
    }
  ]
}