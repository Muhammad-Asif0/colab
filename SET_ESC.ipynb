{
  "nbformat": 4,
  "nbformat_minor": 0,
  "metadata": {
    "colab": {
      "name": "SET-ESC.ipynb",
      "provenance": [],
      "collapsed_sections": [],
      "include_colab_link": true
    },
    "kernelspec": {
      "name": "python3",
      "display_name": "Python 3"
    }
  },
  "cells": [
    {
      "cell_type": "markdown",
      "metadata": {
        "id": "view-in-github",
        "colab_type": "text"
      },
      "source": [
        "<a href=\"https://colab.research.google.com/github/Muhammad-Asif0/colab/blob/main/SET_ESC.ipynb\" target=\"_parent\"><img src=\"https://colab.research.google.com/assets/colab-badge.svg\" alt=\"Open In Colab\"/></a>"
      ]
    },
    {
      "cell_type": "markdown",
      "metadata": {
        "id": "zu3VIOB1XRV7"
      },
      "source": [
        "# FALL 2020\n",
        "\n",
        "# CSE110 MIDTERM\n",
        "**<font color='red'>[MUST MAINTAIN VARIABLE NAMING CONVENTIONS FOR ALL THE TASKS]</font>**\n",
        "\n",
        "**<font color='red'>[Writing comments(explanatory sentences) in any of the code is completely optional]</font>**"
      ]
    },
    {
      "cell_type": "markdown",
      "metadata": {
        "id": "iWWm5nUlXo16"
      },
      "source": [
        "# Task 01\n",
        "Suppose, your friend is building an automated car called “Hamlet”. He needs to fix the programming of the car so that it runs at a proper speed. Now write a python program that takes 2 inputs (distance in meters and time in seconds). The program should then print the velocity in kilometers per hour of that car. Also it should print whether the car is working properly based on the following chart.\n",
        "\n",
        "|Velocity|Information to be printed|\n",
        "|------|------|\n",
        "|Less than 60 km/h  |Too slow. Needs more changes.\n",
        "|Between 60 km/h to 90 km/h |Velocity is okay. The car is ready!\n",
        "|Greater than 90 km/h|Too fast. Only a few changes should suffice. \n",
        "\n",
        "==========================================\n",
        "\n",
        "**Sample input 1:**\\\n",
        "160000\\\n",
        "7200\n",
        "\n",
        "\n",
        "**Sample output 1:**\\\n",
        "80.0 km/h\\\n",
        "Velocity is okay. The car is ready!\n",
        "\n",
        "\n",
        "**Explanation:**\\\n",
        "After the conversion of distance and time, the velocity is (160/2) km/h = 80 km/h. So the velocity is okay\n",
        "\n",
        " ==========================================\n",
        "\n",
        "**Sample input 2:**\\\n",
        "25400\\\n",
        "3600\n",
        "\n",
        "\n",
        "**Sample output 2:**\\\n",
        "25.4 km/h\\\n",
        "Too slow. Needs more changes.\n",
        "\n",
        "**Explanation:**\\\n",
        "After the conversion of distance and time, the velocity is (25.4/1) km/h = 25.4 km/h. So the speed is too slow."
      ]
    },
    {
      "cell_type": "code",
      "metadata": {
        "id": "YxJVV9V7b5AP"
      },
      "source": [
        "# Task 1 Solution\n",
        "\n",
        "\n"
      ],
      "execution_count": null,
      "outputs": []
    },
    {
      "cell_type": "markdown",
      "metadata": {
        "id": "-eYXeXHgchWd"
      },
      "source": [
        "# Task 02\n",
        "Write a python program that will take a string as an input from the user. Your task is to check the ascii value of every character. If the ascii value of the character is **even**, replace that character with the previous index character of the original string;  or else keep the same. For 0th index, since there is no previous character replace it with ‘1’\n",
        "\n",
        "**<font color='red'>[You cannot use the built-in replace() function. You are allowed to use ord() and chr() function.]</font>**\n",
        "\n",
        "\n",
        " ================================\n",
        "\n",
        "**Sample input 1:**\\\n",
        "Python \\\n",
        "**Sample output 1:**\\\n",
        "1yytoo\\\n",
        "**Explanation:**\\\n",
        "The ascii value (80,121,116,104,111,110) respectively. Since the ascii of ‘P’ is even, it is replaced by ‘1’. In the same way, the ascii of ‘t’ is even, so replaced by the previous character ‘y’. Next, the ascii of ‘h’ is even, so replaced by the previous character ‘t’. Finally, the ascii of ‘n’ is even, so replaced by the previous character ‘o’.\n",
        "\n",
        "\n",
        " ================================\n",
        "\n",
        "\n",
        "**Sample input 2:**\\\n",
        "grow  \\\n",
        "**Sample output 2:**\\\n",
        "ggow\\\n",
        "**Explanation:**\\\n",
        "The ascii values are (103,114,111,119) respectively. Since the ascii of ‘r’ is even, it was replaced by previous character ‘g’. The other character has odd ascii value, so they were the same.\n",
        "\n",
        " ================================"
      ]
    },
    {
      "cell_type": "code",
      "metadata": {
        "id": "n9gy5IS3dtBT"
      },
      "source": [
        "# Task 2 Solution\n",
        "\n",
        "\n"
      ],
      "execution_count": null,
      "outputs": []
    },
    {
      "cell_type": "markdown",
      "metadata": {
        "id": "K7Tg-Eizdx0f"
      },
      "source": [
        "# Task 03\n",
        "\n",
        "Write a python program that takes a String from the user and prints a new String modifying based on the  following two given rules.\\\n",
        "a) In the original String, if the number of consecutive same letters are even, reduce it to half.\\\n",
        "b) In the original String, If the number of consecutive same letters are odd, double the number of letters.\n",
        "\n",
        " ================================\n",
        "\n",
        "**Sample input 1:**\\\n",
        "Fooootbaaall \\\n",
        "**Sample output 1:**\\\n",
        "Footbaaaaaal\n",
        "\n",
        "**Explanation:**\\\n",
        "There are 4 consecutive ‘o’ and 2 consecutive ‘l’. As a result, they are reduced to 2 consecutive ‘o’ and 1 ‘l’. Again, there are 3 consecutive ‘a’ which was increased to 6 consecutive ‘a’ in the output string.\n",
        "\n",
        " ================================\n",
        "\n",
        "**Sample input 1:**\\\n",
        "Proograaaamiiing\\\n",
        "**Sample output 1:**\\\n",
        "Prograamiiiiiing\n",
        "\n",
        "**Explanation:**\\\n",
        "There are 2 consecutive ‘o’ and 4 consecutive ‘a’. As a result, they are reduced to 1 ‘o’ and 2 consequtive ‘a’. Again, there are 3 consecutive ‘i’ which was increased to 6 consecutive ‘i’ in the output string.\n",
        "\n",
        " ================================"
      ]
    },
    {
      "cell_type": "code",
      "metadata": {
        "id": "EKqSoRPzfZda"
      },
      "source": [
        "# Task 3 Solution\n",
        "\n",
        "\n",
        "x=\"Proograaaamiiing\"\n",
        "x=x+\"-\"\n",
        "t=\"\"\n",
        "m=[]\n",
        "for i in range(len(x)-1):\n",
        "    if x[i] != x[i-1] and x[i] != x[i+1]:\n",
        "        t=t+x[i]\n",
        "    else:\n",
        "        if x[i] !=x[i+1]:\n",
        "            m.append(x[i])\n",
        "            if len(m)%2 !=0:\n",
        "                t=t+m[0]*(len(m)*2)\n",
        "                m = []\n",
        "            else:\n",
        "                t=t+m[0]*int((len(m)/2))\n",
        "                m = []\n",
        "        else:\n",
        "            m.append(x[i])\n",
        "print(t)"
      ],
      "execution_count": null,
      "outputs": []
    }
  ]
}