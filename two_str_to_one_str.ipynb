{
  "nbformat": 4,
  "nbformat_minor": 0,
  "metadata": {
    "colab": {
      "name": "two str to one str.ipynb",
      "private_outputs": true,
      "provenance": [],
      "authorship_tag": "ABX9TyNSVwUWWpb+lnCrSYh8ZcZ0",
      "include_colab_link": true
    },
    "kernelspec": {
      "name": "python3",
      "display_name": "Python 3"
    }
  },
  "cells": [
    {
      "cell_type": "markdown",
      "metadata": {
        "id": "view-in-github",
        "colab_type": "text"
      },
      "source": [
        "<a href=\"https://colab.research.google.com/github/Muhammad-Asif0/colab/blob/main/two_str_to_one_str.ipynb\" target=\"_parent\"><img src=\"https://colab.research.google.com/assets/colab-badge.svg\" alt=\"Open In Colab\"/></a>"
      ]
    },
    {
      "cell_type": "code",
      "metadata": {
        "id": "Ad_wS44hzLFX"
      },
      "source": [
        "x=\"abc\"\r\n",
        "y=\"xyzt\"\r\n",
        "total=\"\"\r\n",
        "if len(x)>len(y):\r\n",
        "    for i in range(len(y)):\r\n",
        "        total=total+x[i]+y[i]\r\n",
        "    total=total+x[len(y):]\r\n",
        "elif len(y)>len(x):\r\n",
        "    for i in range(len(x)):\r\n",
        "        total=total+y[i]+x[i]\r\n",
        "    total = total + y[len(x):]\r\n",
        "else:\r\n",
        "    for i in range(len(x)):\r\n",
        "        total=total+y[i]+x[i]\r\n",
        "print(total)\r\n",
        "\r\n",
        "\r\n"
      ],
      "execution_count": null,
      "outputs": []
    }
  ]
}