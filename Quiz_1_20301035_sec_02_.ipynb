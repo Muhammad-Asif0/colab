{
  "nbformat": 4,
  "nbformat_minor": 0,
  "metadata": {
    "colab": {
      "name": "Quiz 1_20301035_sec_02_.ipynb",
      "provenance": [],
      "private_outputs": true,
      "authorship_tag": "ABX9TyMXZSX8I/ZQuNtqH2yUZo/h",
      "include_colab_link": true
    },
    "kernelspec": {
      "name": "python3",
      "display_name": "Python 3"
    }
  },
  "cells": [
    {
      "cell_type": "markdown",
      "metadata": {
        "id": "view-in-github",
        "colab_type": "text"
      },
      "source": [
        "<a href=\"https://colab.research.google.com/github/Muhammad-Asif0/colab/blob/main/Quiz_1_20301035_sec_02_.ipynb\" target=\"_parent\"><img src=\"https://colab.research.google.com/assets/colab-badge.svg\" alt=\"Open In Colab\"/></a>"
      ]
    },
    {
      "cell_type": "code",
      "metadata": {
        "id": "c_pI1MfHA1iW"
      },
      "source": [
        "t=input()\n",
        "letter=[]\n",
        "number=[]\n",
        "d=dict()\n",
        "for i in range(len(t)):\n",
        "    if ord(t[i])>=65:\n",
        "        if t[i] not in letter:\n",
        "            letter.append(t[i])\n",
        "    elif ord(t[i])>=48 and ord(t[i])<=57:\n",
        "        if t[i] not in number:\n",
        "            number.append(t[i])\n",
        "for i in range(len(number+letter)):\n",
        "    d[\"latter\"]=letter\n",
        "    d[\"number\"]=number\n",
        "print(d)\n",
        "\n"
      ],
      "execution_count": null,
      "outputs": []
    }
  ]
}